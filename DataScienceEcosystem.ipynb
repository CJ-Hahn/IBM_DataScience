{
 "cells": [
  {
   "cell_type": "markdown",
   "id": "14c63b32",
   "metadata": {},
   "source": [
    "# Data Science Tools and Ecosystem "
   ]
  },
  {
   "cell_type": "markdown",
   "id": "7faa8e89",
   "metadata": {},
   "source": [
    "In this notebook, Data Science Tools and Ecosystem are summarized."
   ]
  },
  {
   "cell_type": "markdown",
   "id": "6b0999ae",
   "metadata": {},
   "source": [
    "__Objectives:__\n",
    "* Jupyter markdown\n",
    "* Data Science languages\n",
    "* Data Science Libraries\n",
    "* Table Creation\n",
    "* Python Arithmetic"
   ]
  },
  {
   "cell_type": "markdown",
   "id": "64e42dd1",
   "metadata": {},
   "source": [
    "## Data Science Languages\n",
    "Some of the most popular languages used in the Data Science filed are the following:\n",
    "1. Python\n",
    "2. R\n",
    "3. SQL"
   ]
  },
  {
   "cell_type": "markdown",
   "id": "5a7e7326",
   "metadata": {},
   "source": [
    "## Data Science Libraries\n",
    "1. Pandas\n",
    "2. Numpy\n",
    "3. Matplotlib"
   ]
  },
  {
   "cell_type": "markdown",
   "id": "9d1633e7",
   "metadata": {},
   "source": [
    "| Data Science Tools |\n",
    "| ----------------- |\n",
    "| Jupyter Notebook |\n",
    "| RStudio |\n",
    "| Kaggle |"
   ]
  },
  {
   "cell_type": "markdown",
   "id": "0a6ad509",
   "metadata": {},
   "source": []
  },
  {
   "cell_type": "markdown",
   "id": "805a4e08",
   "metadata": {},
   "source": [
    "### Below are some examples evalating arithmetic expressions using Python"
   ]
  },
  {
   "cell_type": "code",
   "execution_count": 7,
   "id": "8682e455",
   "metadata": {},
   "outputs": [
    {
     "data": {
      "text/plain": [
       "17"
      ]
     },
     "execution_count": 7,
     "metadata": {},
     "output_type": "execute_result"
    }
   ],
   "source": [
    "# Simple arithmetic expression that multiplies then adds integers\n",
    "(3*4)+5"
   ]
  },
  {
   "cell_type": "code",
   "execution_count": 8,
   "id": "68a4a3e0",
   "metadata": {},
   "outputs": [
    {
     "data": {
      "text/plain": [
       "3.3333333333333335"
      ]
     },
     "execution_count": 8,
     "metadata": {},
     "output_type": "execute_result"
    }
   ],
   "source": [
    "# The following line woll convert 200 minutes into hours\n",
    "200/60"
   ]
  },
  {
   "cell_type": "markdown",
   "id": "8442c0bd",
   "metadata": {},
   "source": [
    "## Author\n",
    "Christopher"
   ]
  }
 ],
 "metadata": {
  "kernelspec": {
   "display_name": "Python 3 (ipykernel)",
   "language": "python",
   "name": "python3"
  },
  "language_info": {
   "codemirror_mode": {
    "name": "ipython",
    "version": 3
   },
   "file_extension": ".py",
   "mimetype": "text/x-python",
   "name": "python",
   "nbconvert_exporter": "python",
   "pygments_lexer": "ipython3",
   "version": "3.11.5"
  }
 },
 "nbformat": 4,
 "nbformat_minor": 5
}
